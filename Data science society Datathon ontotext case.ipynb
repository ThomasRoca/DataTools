{
 "cells": [
  {
   "cell_type": "markdown",
   "metadata": {},
   "source": [
    "# Data science society Dathaton 2018: starter on the [Ontotext case](https://www.datasciencesociety.net/the-ontotext-case-data-enriched/) with python\n",
    "\n",
    "<br>\n",
    "\n",
    "**Advice from a mentor**: *Thomas Roca, PhD Data strategist @Microsoft*\n",
    "\n",
    "Need more help ? Find me on: https://ask.datasciencesociety.net/directory :@thoms"
   ]
  },
  {
   "cell_type": "markdown",
   "metadata": {},
   "source": [
    "# 1. Where to start for building a training set\n",
    "- First step get industry classification from [ICB](https://en.wikipedia.org/wiki/Industry_Classification_Benchmark)\n",
    "- To start with the training set, a way could be to take a look at *Forbes* 2000 global ranking of the 2000 biggest global company. CSV of if can be found on [Google dataset search](https://toolbox.google.com/datasetsearch/search?query=Forbes%20Global%202000%202018&docid=P8adQYMuL1Bt2h1VAAAAAA%3D%3D)\n",
    "- a matching with ICB classification may be necessary..\n",
    "- Extra info are available on open data for exemple:\n",
    "    - here: http://factforge.net/ or there: http://dbpedia.org/page/Microsoft\n",
    "\n",
    "# 2. Build a text classification model \n",
    "- **Machine learning Ressources:** \n",
    "    - eg. with **scikit learn**:\n",
    "        - http://scikit-learn.org/stable/modules/svm.html#classification\n",
    "        - blog post of an implementation of it: https://towardsdatascience.com/multi-class-text-classification-with-scikit-learn-12f1e60e0a9f\n",
    "        - Ressources on linkedin Learning: https://www.linkedin.com/learning/nlp-with-python-for-machine-learning-essential-training/    \n",
    "    - Deep learning with **TensorFlow**: \n",
    "        - https://www.tensorflow.org/tutorials/text_classification_with_tf_hub\n",
    "        - https://towardsdatascience.com/train-test-split-and-cross-validation-in-python-80b61beca4b6\n",
    "   \n",
    "**Some advices for features extraction and text cleaning**:\n",
    "Machine does make distinctions between each and every character. Reduce noise by sticiking to the meaning by: lowering case for eveything, getting rid of punctuation, stop words, numbers if not relevant. Tokenize, try to [stemm or lemmatize](https://nlp.stanford.edu/IR-book/html/htmledition/stemming-and-lemmatization-1.html) if needed.\n",
    "\n",
    "**Preprocessing tips:**\n",
    "- https://docs.microsoft.com/en-us/azure/machine-learning/studio-module-reference/preprocess-text\n",
    "- https://textminingonline.com/dive-into-nltk-part-iv-stemming-and-lemmatization\n",
    "\n",
    "\n",
    " \n",
    "### other resources\n",
    "- http://scikit-learn.org/stable/tutorial/text_analytics/working_with_text_data.html\n",
    "- https://www.datacamp.com/community/tutorials/scikit-learn-fake-news\n",
    "- https://www.learndatasci.com/tutorials/predicting-reddit-news-sentiment-naive-bayes-text-classifiers/\n",
    "- https://machinelearningmastery.com/prepare-text-data-machine-learning-scikit-learn/\n",
    "- https://machinelearningmastery.com/sequence-classification-lstm-recurrent-neural-networks-python-keras/\n",
    "- https://github.com/kjam/random_hackery/blob/master/Comparing%20Fake%20News%20Classifiers.ipynb\n",
    "- https://blog.kjamistan.com/comparing-scikit-learn-text-classifiers-on-a-fake-news-dataset/ \n",
    "- https://towardsdatascience.com/machine-learning-nlp-text-classification-using-scikit-learn-python-and-nltk-c52b92a7c73a\n",
    "- https://machinelearningmastery.com/predict-sentiment-movie-reviews-using-deep-learning/\n",
    "    "
   ]
  },
  {
   "cell_type": "markdown",
   "metadata": {},
   "source": [
    "## Get industry classification from [ICB](https://en.wikipedia.org/wiki/Industry_Classification_Benchmark)\n",
    "\n",
    "Just an example of the use of [beautifulSoup](http://www.crummy.com/software/BeautifulSoup/bs4/) for scarpping web pages:"
   ]
  },
  {
   "cell_type": "code",
   "execution_count": 1,
   "metadata": {},
   "outputs": [],
   "source": [
    "from urllib.request import urlopen\n",
    "from bs4 import BeautifulSoup\n",
    "import re\n",
    "import numpy as np\n",
    "\n",
    "#page url\n",
    "link='https://en.wikipedia.org/wiki/Industry_Classification_Benchmark'\n",
    "\n",
    "#Empty array to store the info we want\n",
    "district_list=[]\n",
    "district_density=[]\n",
    "\n",
    "#Read the web page\n",
    "html=urlopen(link).read()\n",
    "#Parse it with BeautifulSoup\n",
    "soup=BeautifulSoup(html, \"lxml\")\n",
    "table=soup.find_all(\"table\")\n",
    "td = table[0]('td')\n",
    "dict_sector={}\n",
    "dict_subsector={}\n",
    "dict_industry={}\n",
    "dict_supersector={}\n",
    "dict_all={}\n",
    "for item in td:\n",
    "    code=item.text.replace('\\n','').split(' ')[0]\n",
    "    content=\" \".join(item.text.replace('\\n','').split(' ')[1:])\n",
    "    #print(int(code), content)\n",
    "    dict_all[int(code)]=content\n",
    "    if int(code) % 1000 ==0: #modulo to sort out the hierarchy among the codes \n",
    "        dict_industry[int(code)]=content\n",
    "    elif int(code) % 100 ==0: \n",
    "        dict_supersector[int(code)]=content\n",
    "    elif int(code) % 10 ==0: \n",
    "        dict_sector[int(code)]=content  \n",
    "    else:\n",
    "        if int(code)!=1: dict_subsector[int(code)]=content"
   ]
  },
  {
   "cell_type": "code",
   "execution_count": 2,
   "metadata": {},
   "outputs": [
    {
     "data": {
      "text/plain": [
       "{1000: 'Basic Materials',\n",
       " 2000: 'Industrials',\n",
       " 3000: 'Consumer Goods',\n",
       " 4000: 'Health Care',\n",
       " 5000: 'Consumer Services',\n",
       " 6000: 'Telecommunications',\n",
       " 7000: 'Utilities',\n",
       " 8000: 'Financials',\n",
       " 9000: 'Technology'}"
      ]
     },
     "execution_count": 2,
     "metadata": {},
     "output_type": "execute_result"
    }
   ],
   "source": [
    "dict_industry"
   ]
  },
  {
   "cell_type": "code",
   "execution_count": 3,
   "metadata": {},
   "outputs": [
    {
     "data": {
      "text/plain": [
       "{500: 'Oil & Gas',\n",
       " 1300: 'Chemicals',\n",
       " 1700: 'Basic Resources',\n",
       " 2300: 'Construction & Materials',\n",
       " 2700: 'Industrial Goods & Services',\n",
       " 3300: 'Automobiles & Parts',\n",
       " 3500: 'Food & Beverage',\n",
       " 3700: 'Personal & Household Goods',\n",
       " 4500: 'Health Care',\n",
       " 5300: 'Retail',\n",
       " 5500: 'Media',\n",
       " 5700: 'Travel & Leisure',\n",
       " 6500: 'Telecommunications',\n",
       " 7500: 'Utilities',\n",
       " 8300: 'Banks',\n",
       " 8500: 'Insurance',\n",
       " 8600: 'Real Estate',\n",
       " 8700: 'Financial Services',\n",
       " 9500: 'Technology'}"
      ]
     },
     "execution_count": 3,
     "metadata": {},
     "output_type": "execute_result"
    }
   ],
   "source": [
    "dict_supersector"
   ]
  },
  {
   "cell_type": "code",
   "execution_count": 4,
   "metadata": {},
   "outputs": [
    {
     "data": {
      "text/plain": [
       "{530: 'Oil & Gas Producers',\n",
       " 570: 'Oil Equipment, Services & Distribution',\n",
       " 580: 'Alternative Energy',\n",
       " 1350: 'Chemicals',\n",
       " 1730: 'Forestry & Paper',\n",
       " 1750: 'Industrial Metals & Mining',\n",
       " 1770: 'Mining',\n",
       " 2350: 'Construction & Materials',\n",
       " 2710: 'Aerospace & Defense',\n",
       " 2720: 'General Industrials',\n",
       " 2730: 'Electronic & Electrical Equipment',\n",
       " 2750: 'Industrial Engineering',\n",
       " 2770: 'Industrial Transportation',\n",
       " 2790: 'Support Services',\n",
       " 3350: 'Automobiles & Parts',\n",
       " 3530: 'Beverages',\n",
       " 3570: 'Food Producers',\n",
       " 3720: 'Household Goods & Home Construction',\n",
       " 3740: 'Leisure Goods',\n",
       " 3760: 'Personal Goods',\n",
       " 3780: 'Tobacco',\n",
       " 4530: 'Health Care Equipment & Services',\n",
       " 4570: 'Pharmaceuticals & Biotechnology',\n",
       " 5330: 'Food & Drug Retailers',\n",
       " 5370: 'General Retailers',\n",
       " 5550: 'Media',\n",
       " 5750: 'Travel & Leisure',\n",
       " 6530: 'Fixed Line Telecommunications',\n",
       " 6570: 'Mobile Telecommunications',\n",
       " 7530: 'Electricity',\n",
       " 7570: 'Gas, Water & Multiutilities',\n",
       " 8350: 'Banks',\n",
       " 8530: 'Nonlife Insurance',\n",
       " 8570: 'Life Insurance',\n",
       " 8630: 'Real Estate Investment & Services',\n",
       " 8670: 'Real Estate Investment Trusts',\n",
       " 8770: 'Financial Services',\n",
       " 8980: 'Equity Investment Instruments',\n",
       " 8990: 'Nonequity Investment Instruments',\n",
       " 9530: 'Software & Computer Services',\n",
       " 9570: 'Technology Hardware & Equipment'}"
      ]
     },
     "execution_count": 4,
     "metadata": {},
     "output_type": "execute_result"
    }
   ],
   "source": [
    "dict_sector"
   ]
  },
  {
   "cell_type": "code",
   "execution_count": 5,
   "metadata": {},
   "outputs": [
    {
     "data": {
      "text/plain": [
       "{533: 'Exploration & Production',\n",
       " 537: 'Integrated Oil & Gas',\n",
       " 573: 'Oil Equipment & Services',\n",
       " 577: 'Pipelines',\n",
       " 583: 'Renewable Energy Equipment',\n",
       " 587: 'Alternative Fuels',\n",
       " 1353: 'Commodity Chemicals',\n",
       " 1357: 'Specialty Chemicals',\n",
       " 1733: 'Forestry',\n",
       " 1737: 'Paper',\n",
       " 1753: 'Aluminum',\n",
       " 1755: 'Nonferrous Metals',\n",
       " 1757: 'Iron & Steel',\n",
       " 1771: 'Coal',\n",
       " 1773: 'Diamonds & Gemstones',\n",
       " 1775: 'General Mining',\n",
       " 1777: 'Gold Mining',\n",
       " 1779: 'Platinum & Precious Metals',\n",
       " 2353: 'Building Materials & Fixtures',\n",
       " 2357: 'Heavy Construction',\n",
       " 2713: 'Aerospace',\n",
       " 2717: 'Defense',\n",
       " 2723: 'Containers & Packaging',\n",
       " 2727: 'Diversified Industrials',\n",
       " 2733: 'Electrical Components & Equipment',\n",
       " 2737: 'Electronic Equipment',\n",
       " 2753: 'Commercial Vehicles & Trucks',\n",
       " 2757: 'Industrial Machinery',\n",
       " 2771: 'Delivery Services',\n",
       " 2773: 'Marine Transportation',\n",
       " 2775: 'Railroads',\n",
       " 2777: 'Transportation Services',\n",
       " 2779: 'Trucking',\n",
       " 2791: 'Business Support Services',\n",
       " 2793: 'Business Training & Employment Agencies',\n",
       " 2795: 'Financial Administration',\n",
       " 2797: 'Industrial Suppliers',\n",
       " 2799: 'Waste & Disposal Services',\n",
       " 3353: 'Automobiles',\n",
       " 3355: 'Auto Parts',\n",
       " 3357: 'Tires',\n",
       " 3533: 'Brewers',\n",
       " 3535: 'Distillers & Vintners',\n",
       " 3537: 'Soft Drinks',\n",
       " 3573: 'Farming & Fishing',\n",
       " 3577: 'Food Products',\n",
       " 3722: 'Durable Household Products',\n",
       " 3724: 'Nondurable Household Products',\n",
       " 3726: 'Furnishings',\n",
       " 3728: 'Home Construction',\n",
       " 3743: 'Consumer Electronics',\n",
       " 3745: 'Recreational Products',\n",
       " 3747: 'Toys',\n",
       " 3763: 'Clothing & Accessories',\n",
       " 3765: 'Footwear',\n",
       " 3767: 'Personal Products',\n",
       " 3785: 'Tobacco',\n",
       " 4533: 'Health Care Providers',\n",
       " 4535: 'Medical Equipment',\n",
       " 4537: 'Medical Supplies',\n",
       " 4573: 'Biotechnology',\n",
       " 4577: 'Pharmaceuticals',\n",
       " 5333: 'Drug Retailers',\n",
       " 5337: 'Food Retailers & Wholesalers',\n",
       " 5371: 'Apparel Retailers',\n",
       " 5373: 'Broadline Retailers',\n",
       " 5375: 'Home Improvement Retailers',\n",
       " 5377: 'Specialized Consumer Services',\n",
       " 5379: 'Specialty Retailers',\n",
       " 5553: 'Broadcasting & Entertainment',\n",
       " 5555: 'Media Agencies',\n",
       " 5557: 'Publishing',\n",
       " 5751: 'Airlines',\n",
       " 5752: 'Gambling',\n",
       " 5753: 'Hotels',\n",
       " 5755: 'Recreational Services',\n",
       " 5757: 'Restaurants & Bars',\n",
       " 5759: 'Travel & Tourism',\n",
       " 6535: 'Fixed Line Telecommunications',\n",
       " 6575: 'Mobile Telecommunications',\n",
       " 7535: 'Conventional Electricity',\n",
       " 7537: 'Alternative Electricity',\n",
       " 7573: 'Gas Distribution',\n",
       " 7575: 'Multiutilities',\n",
       " 7577: 'Water',\n",
       " 8355: 'Banks',\n",
       " 8532: 'Full Line Insurance',\n",
       " 8534: 'Insurance Brokers',\n",
       " 8536: 'Property & Casualty Insurance',\n",
       " 8538: 'Reinsurance',\n",
       " 8575: 'Life Insurance',\n",
       " 8633: 'Real Estate Holding & Development',\n",
       " 8637: 'Real Estate Services',\n",
       " 8671: 'Industrial & Office REITs',\n",
       " 8672: 'Retail REITs',\n",
       " 8673: 'Residential REITs',\n",
       " 8674: 'Diversified REITs',\n",
       " 8675: 'Specialty REITs',\n",
       " 8676: 'Mortgage REITs',\n",
       " 8677: 'Hotel & Lodging REITs',\n",
       " 8771: 'Asset Managers',\n",
       " 8773: 'Consumer Finance',\n",
       " 8775: 'Specialty Finance',\n",
       " 8777: 'Investment Services',\n",
       " 8779: 'Mortgage Finance',\n",
       " 8985: 'Equity Investment Instruments',\n",
       " 8995: 'Nonequity Investment Instruments',\n",
       " 9533: 'Computer Services',\n",
       " 9535: 'Internet',\n",
       " 9537: 'Software',\n",
       " 9572: 'Computer Hardware',\n",
       " 9574: 'Electronic Office Equipment',\n",
       " 9576: 'Semiconductors',\n",
       " 9578: 'Telecommunications Equipment'}"
      ]
     },
     "execution_count": 5,
     "metadata": {},
     "output_type": "execute_result"
    }
   ],
   "source": [
    "dict_subsector"
   ]
  },
  {
   "cell_type": "markdown",
   "metadata": {},
   "source": [
    "## Enough for me, your turn to play..."
   ]
  }
 ],
 "metadata": {
  "kernelspec": {
   "display_name": "python35",
   "language": "python",
   "name": "python35"
  },
  "language_info": {
   "codemirror_mode": {
    "name": "ipython",
    "version": 3
   },
   "file_extension": ".py",
   "mimetype": "text/x-python",
   "name": "python",
   "nbconvert_exporter": "python",
   "pygments_lexer": "ipython3",
   "version": "3.5.2"
  }
 },
 "nbformat": 4,
 "nbformat_minor": 2
}
